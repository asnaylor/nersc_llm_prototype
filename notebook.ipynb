{
 "cells": [
  {
   "cell_type": "markdown",
   "id": "cec622d8-49e2-44f0-bd38-33e425ecc341",
   "metadata": {},
   "source": [
    "# Notebook: LLM Streaming Client\n",
    "---"
   ]
  },
  {
   "cell_type": "markdown",
   "id": "2b1dfe85-eb37-45f9-9088-29e68ce714b4",
   "metadata": {},
   "source": [
    "### Install triton client + langchain"
   ]
  },
  {
   "cell_type": "code",
   "execution_count": null,
   "id": "27c2060c-fbcb-47a0-971d-507354e7530c",
   "metadata": {
    "tags": []
   },
   "outputs": [],
   "source": [
    "import sys"
   ]
  },
  {
   "cell_type": "code",
   "execution_count": null,
   "id": "aa29cb1f-cf82-43c1-aafb-f3b0ca0e4c5e",
   "metadata": {
    "tags": []
   },
   "outputs": [],
   "source": [
    "!{sys.executable} -m pip install tritonclient[all] langchain"
   ]
  },
  {
   "cell_type": "markdown",
   "id": "6bdb4572-db6d-44e8-a3d2-f2628dcbfbe2",
   "metadata": {},
   "source": [
    "### Get Compute Node IP"
   ]
  },
  {
   "cell_type": "code",
   "execution_count": null,
   "id": "00e74ec1-55e5-4a21-8b91-274032d86abc",
   "metadata": {
    "tags": []
   },
   "outputs": [],
   "source": [
    "!sqs"
   ]
  },
  {
   "cell_type": "code",
   "execution_count": null,
   "id": "4dcc3094-ef2d-4569-9ae4-d516806805aa",
   "metadata": {},
   "outputs": [],
   "source": [
    "import socket\n",
    "triton_address = socket.gethostbyname(\"\")\n",
    "triton_address"
   ]
  },
  {
   "cell_type": "markdown",
   "id": "b62af88d-b344-44e6-8487-5f94a48a9fc8",
   "metadata": {},
   "source": [
    "### Create prompt"
   ]
  },
  {
   "cell_type": "code",
   "execution_count": null,
   "id": "452ba391-41eb-4e45-831a-5a0da876b9d3",
   "metadata": {
    "tags": []
   },
   "outputs": [],
   "source": [
    "LLAMA_PROMPT_TEMPLATE = (\n",
    " \"<s>[INST] <<SYS>>\"\n",
    " \"{system_prompt}\"\n",
    " \"<</SYS>>\"\n",
    " \"[/INST] {context} </s><s>[INST] {question} [/INST]\"\n",
    ")\n",
    "\n",
    "system_prompt = \"You are a helpful, respectful and honest assistant. Always answer as helpfully as possible, while being safe. Please ensure that your responses are positive in nature.\"\n",
    "\n",
    "context=\"\"\n",
    "\n",
    "question='What is NERSC?'\n",
    "\n",
    "prompt = LLAMA_PROMPT_TEMPLATE.format(system_prompt=system_prompt, context=context, question=question)"
   ]
  },
  {
   "cell_type": "code",
   "execution_count": null,
   "id": "f6057320-b4c9-45bd-8cc0-d4959ad5e442",
   "metadata": {
    "tags": []
   },
   "outputs": [],
   "source": [
    "from langchain_nvidia_trt_llms import TritonTensorRTLLM\n",
    "\n",
    "triton_url = f\"{triton_address}:8001\"\n",
    "pload = {\n",
    "            'tokens':300,\n",
    "            'server_url': triton_url,\n",
    "            'model_name': \"ensemble\",\n",
    "            'temperature':1.0,\n",
    "            'top_k':1,\n",
    "            'top_p':0,\n",
    "            'beam_width':1,\n",
    "            'repetition_penalty':1.0,\n",
    "            'length_penalty':1.0\n",
    "}\n",
    "client = TritonTensorRTLLM(**pload)"
   ]
  },
  {
   "cell_type": "markdown",
   "id": "78ca23da-1d17-449c-ace2-8c7398029cb8",
   "metadata": {},
   "source": [
    "### Generate Answer"
   ]
  },
  {
   "cell_type": "code",
   "execution_count": null,
   "id": "560dc8f1-de41-4c5c-9596-eef5ce92f612",
   "metadata": {},
   "outputs": [],
   "source": [
    "import time\n",
    "\n",
    "start_time = time.time()\n",
    "tokens_generated = 0\n",
    "\n",
    "for val in client.stream(prompt):\n",
    "    tokens_generated += 1\n",
    "    print(val, end=\"\", flush=True)\n",
    "\n",
    "total_time = time.time() - start_time\n",
    "print(f\"\\n--- Generated {tokens_generated} tokens in {total_time} seconds ---\")\n",
    "print(f\"--- {tokens_generated/total_time} tokens/sec\")"
   ]
  },
  {
   "cell_type": "code",
   "execution_count": null,
   "id": "f35e438b-66af-431f-b01f-effc7f47e6b0",
   "metadata": {},
   "outputs": [],
   "source": []
  }
 ],
 "metadata": {
  "kernelspec": {
   "display_name": "NERSC Python",
   "language": "python",
   "name": "python3"
  },
  "language_info": {
   "codemirror_mode": {
    "name": "ipython",
    "version": 3
   },
   "file_extension": ".py",
   "mimetype": "text/x-python",
   "name": "python",
   "nbconvert_exporter": "python",
   "pygments_lexer": "ipython3",
   "version": "3.11.7"
  }
 },
 "nbformat": 4,
 "nbformat_minor": 5
}
